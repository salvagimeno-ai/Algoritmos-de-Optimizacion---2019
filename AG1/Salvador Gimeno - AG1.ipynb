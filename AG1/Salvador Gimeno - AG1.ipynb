{
 "cells": [
  {
   "cell_type": "markdown",
   "metadata": {},
   "source": [
    "Actividad Guiada 1\n",
    "Nombre: Salvador Gimeno\n",
    "Github: https://github.com/salvagimeno-ai/03MAIR-Algoritmos-de-optimizacion/tree/master/AG1"
   ]
  },
  {
   "cell_type": "markdown",
   "metadata": {},
   "source": [
    "### Decorador para medir tiempos"
   ]
  },
  {
   "cell_type": "code",
   "execution_count": 1,
   "metadata": {},
   "outputs": [],
   "source": [
    "from functools import wraps\n",
    "from time import time\n",
    "\n",
    "def calcular_tiempo(f):\n",
    "    @wraps(f)\n",
    "    def cronometro(*args, **kwargs):\n",
    "        t_inicial = time()\n",
    "        salida = f(*args, **kwargs)\n",
    "        t_final = time()\n",
    "        print('Tiempo transcurrido (en segundos): {}'.format(t_final - t_inicial))\n",
    "        return salida\n",
    "    return cronometro"
   ]
  },
  {
   "cell_type": "markdown",
   "metadata": {},
   "source": [
    "### Ordenacion con Algoritmo de Quick Sort con técnica Divide y Vencerás"
   ]
  },
  {
   "cell_type": "code",
   "execution_count": 2,
   "metadata": {},
   "outputs": [],
   "source": [
    "import random\n",
    "def quick_sort(A):\n",
    "    if len(A) == 1:\n",
    "        return A\n",
    "    \n",
    "    elif len(A) == 2:\n",
    "        return [min(A),max(A)]\n",
    "    \n",
    "    elif len(A) > 2:\n",
    "        #en este caso el pivote se calculará como la media de los 3 primeros valores de la lista\n",
    "        pivote = (A[0] + A[1] + A[2])/3  \n",
    "        \n",
    "        IZQ = []\n",
    "        DER = []\n",
    "        \n",
    "        for i in A:\n",
    "            if i < pivote:\n",
    "                IZQ.append(i)\n",
    "            else:\n",
    "                DER.append(i)\n",
    "        #print('paso recursivo')\n",
    "        return quick_sort(IZQ)  + quick_sort(DER) "
   ]
  },
  {
   "cell_type": "code",
   "execution_count": 3,
   "metadata": {},
   "outputs": [],
   "source": [
    "# LISTAS PARA PRUEBAS:\n",
    "A = [9187, 244, 4054, 9222, 8373, 4993, 5265, 5470, 4519, 7182, 2035, 3506, 4337, 7580, 2554, 2824, 8357, 4447, 7379]\n",
    "B = [9187, 244, 1, 24, 154, 2321, 123, 12]\n",
    "C = [9187]"
   ]
  },
  {
   "cell_type": "code",
   "execution_count": 4,
   "metadata": {},
   "outputs": [
    {
     "name": "stdout",
     "output_type": "stream",
     "text": [
      "[244, 2035, 2554, 2824, 3506, 4054, 4337, 4447, 4519, 4993, 5265, 5470, 7182, 7379, 7580, 8357, 8373, 9187, 9222]\n",
      "Tiempo transcurrido (en segundos): 0.0010006427764892578\n"
     ]
    }
   ],
   "source": [
    "@calcular_tiempo\n",
    "def ordenar(A):\n",
    "    print(quick_sort(A))\n",
    "\n",
    "ordenar(A)"
   ]
  },
  {
   "cell_type": "code",
   "execution_count": 5,
   "metadata": {},
   "outputs": [
    {
     "name": "stdout",
     "output_type": "stream",
     "text": [
      "[56, 79, 110, 114, 126, 133, 147, 241, 246, 258, 293, 295, 311, 345, 452, 484, 499, 536, 577, 635, 643, 673, 675, 715, 776, 795, 809, 893, 895, 919, 993, 1040, 1114, 1131, 1137, 1240, 1240, 1277, 1291, 1304, 1313, 1338, 1345, 1361, 1394, 1403, 1411, 1481, 1544, 1559, 1591, 1631, 1660, 1666, 1670, 1716, 1719, 1721, 1723, 1758, 1762, 1769, 1774, 1788, 1818, 1837, 1870, 1894, 1901, 1914, 1988, 2021, 2081, 2081, 2100, 2124, 2211, 2281, 2301, 2310, 2312, 2325, 2351, 2408, 2470, 2557, 2574, 2602, 2608, 2646, 2673, 2681, 2686, 2743, 2748, 2761, 2762, 2796, 2803, 2823, 2898, 2977, 3001, 3006, 3007, 3012, 3029, 3066, 3102, 3158, 3162, 3174, 3199, 3221, 3334, 3380, 3442, 3487, 3508, 3530, 3530, 3541, 3673, 3688, 3729, 3747, 3776, 3777, 3877, 3885, 3894, 3897, 3900, 3940, 3962, 3979, 4084, 4093, 4097, 4191, 4317, 4393, 4418, 4440, 4458, 4560, 4636, 4692, 4791, 4837, 4838, 4856, 4895, 4925, 4939, 4967, 4981, 5054, 5079, 5106, 5112, 5118, 5160, 5177, 5214, 5229, 5238, 5307, 5336, 5346, 5357, 5499, 5633, 5665, 5689, 5707, 5726, 5733, 5734, 5749, 5787, 5816, 5841, 5855, 5862, 5871, 5875, 5907, 5915, 5944, 5986, 5996, 6207, 6253, 6284, 6298, 6341, 6425, 6531, 6639, 6675, 6705, 6723, 6788, 6835, 6837, 6846, 6898, 6925, 6956, 6965, 6966, 7001, 7017, 7077, 7094, 7096, 7105, 7129, 7187, 7227, 7237, 7244, 7256, 7267, 7282, 7285, 7290, 7354, 7357, 7415, 7548, 7601, 7616, 7639, 7639, 7727, 7949, 8050, 8113, 8130, 8161, 8226, 8229, 8256, 8286, 8342, 8450, 8474, 8484, 8543, 8580, 8688, 8718, 8743, 8777, 8803, 8819, 8904, 9089, 9127, 9135, 9171, 9199, 9226, 9232, 9238, 9255, 9279, 9279, 9291, 9317, 9330, 9379, 9386, 9425, 9488, 9493, 9562, 9633, 9635, 9645, 9655, 9658, 9660, 9668, 9706, 9713, 9717, 9794, 9808, 9810, 9820, 9850, 9883, 9902, 9983, 9989, 9993]\n",
      "Tiempo transcurrido (en segundos): 0.0010120868682861328\n"
     ]
    }
   ],
   "source": [
    "D=list(map(lambda x: random.randrange(1, 10000), range(1,300)))\n",
    "ordenar(D)"
   ]
  },
  {
   "cell_type": "markdown",
   "metadata": {},
   "source": [
    "### Algoritmo Voraz con Python - Problema de Cambio de monedas"
   ]
  },
  {
   "cell_type": "code",
   "execution_count": 7,
   "metadata": {},
   "outputs": [],
   "source": [
    "SISTEMA=[25,10,5,1]\n",
    "\n",
    "@calcular_tiempo\n",
    "def cambio_monedas(C,SISTEMA):\n",
    "    SOLUCION = [0 for i in range(len(SISTEMA))]\n",
    "  \n",
    "    VALOR_ACUMULADO = 0\n",
    "  \n",
    "    for i in range(len(SISTEMA)):\n",
    "        monedas = int((C - VALOR_ACUMULADO)/SISTEMA[i])\n",
    "    \n",
    "        SOLUCION[i] = monedas\n",
    "        VALOR_ACUMULADO += monedas*SISTEMA[i]\n",
    "    \n",
    "        if C == VALOR_ACUMULADO:\n",
    "            return SOLUCION\n",
    " \n",
    "    "
   ]
  },
  {
   "cell_type": "code",
   "execution_count": 8,
   "metadata": {},
   "outputs": [
    {
     "name": "stdout",
     "output_type": "stream",
     "text": [
      "Tiempo transcurrido (en segundos): 0.0\n"
     ]
    },
    {
     "data": {
      "text/plain": [
       "[3, 0, 0, 2]"
      ]
     },
     "execution_count": 8,
     "metadata": {},
     "output_type": "execute_result"
    }
   ],
   "source": [
    "cambio_monedas(77,SISTEMA)"
   ]
  },
  {
   "cell_type": "markdown",
   "metadata": {},
   "source": [
    "## Problema de las 4 Reinas"
   ]
  },
  {
   "cell_type": "code",
   "execution_count": 14,
   "metadata": {},
   "outputs": [
    {
     "name": "stdout",
     "output_type": "stream",
     "text": [
      "\n",
      "\n",
      "la solución es:\n",
      "[2, 4, 1, 3]\n",
      "\n",
      " -  -  X  - \n",
      " X  -  -  - \n",
      " -  -  -  X \n",
      " -  X  -  - \n",
      "\n",
      "la solución es:\n",
      "[3, 1, 4, 2]\n",
      "\n",
      " -  X  -  - \n",
      " -  -  -  X \n",
      " X  -  -  - \n",
      " -  -  X  - Tiempo transcurrido (en segundos): 0.0019986629486083984\n"
     ]
    }
   ],
   "source": [
    "N=4\n",
    "\n",
    "Solucion0=[0 for i in range(N)]\n",
    "\n",
    "Etapa=0\n",
    "\n",
    "def es_prometedora(Solucion,Etapa):\n",
    "    #print(Solucion)\n",
    "    for i in range (Etapa+1):\n",
    "        if Solucion.count(Solucion[i])>1:\n",
    "            return False\n",
    "        for j in range(i+1,Etapa+1):\n",
    "            if abs(i-j)== abs(Solucion[i]-Solucion[j]): return False\n",
    "    return True\n",
    "\n",
    "def Dibuja(S):\n",
    "    n = len(S)\n",
    "    for x in range(n):\n",
    "        print(\"\")\n",
    "        for i in range(n):\n",
    "            if S[i] == x+1:\n",
    "                print(\" X \" , end=\"\")\n",
    "            else:\n",
    "                print(\" - \", end=\"\")\n",
    "\n",
    "def Reinas (N,Solucion=Solucion0,Etapa=0):\n",
    "    for i in range(1,N+1):\n",
    "        Solucion[Etapa]=i\n",
    "        EsPrometedora=es_prometedora(Solucion,Etapa)\n",
    "    \n",
    "        if EsPrometedora and Etapa==N-1:\n",
    "            print (\"\\n\\nla solución es:\")\n",
    "            print (Solucion)\n",
    "            Dibuja(Solucion)\n",
    "        elif EsPrometedora:\n",
    "            Reinas(N,Solucion,Etapa+1)\n",
    "        else:\n",
    "            None\n",
    "        Solucion[Etapa]=0\n",
    "\n",
    "@calcular_tiempo   \n",
    "def TR(N):    \n",
    "    return Reinas(N)\n",
    "\n",
    "TR(N)"
   ]
  }
 ],
 "metadata": {
  "kernelspec": {
   "display_name": "Python 3",
   "language": "python",
   "name": "python3"
  },
  "language_info": {
   "codemirror_mode": {
    "name": "ipython",
    "version": 3
   },
   "file_extension": ".py",
   "mimetype": "text/x-python",
   "name": "python",
   "nbconvert_exporter": "python",
   "pygments_lexer": "ipython3",
   "version": "3.7.0"
  }
 },
 "nbformat": 4,
 "nbformat_minor": 2
}
